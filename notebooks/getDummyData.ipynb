{
 "cells": [
  {
   "cell_type": "code",
   "execution_count": 2,
   "metadata": {},
   "outputs": [],
   "source": [
    "import pandas as pd\n"
   ]
  },
  {
   "cell_type": "code",
   "execution_count": 3,
   "metadata": {},
   "outputs": [
    {
     "name": "stdout",
     "output_type": "stream",
     "text": [
      "CSV file created successfully!\n"
     ]
    }
   ],
   "source": [
    "# Sample data\n",
    "data = [\n",
    "    {\"Text\": \"Aggies win the football game in overtime. Unbelievable ending. #GigEm #AggieFootball\", \"Label\": \"Football Related\"},\n",
    "    {\"Text\": \"Career fair was packed today. Met some great companies, hope they call back! #Networking #TAMU\", \"Label\": \"Career Fair Related\"},\n",
    "    {\"Text\": \"Big research announcement from Texas A&M—AI lab is doing incredible work. #Innovation #TAMU\", \"Label\": \"Research Related\"},\n",
    "    {\"Text\": \"Tough loss for the Aggie basketball team. We’ll bounce back. #AggieHoops\", \"Label\": \"Basketball Related\"},\n",
    "    {\"Text\": \"Win a free iPhone! Seriously, just click here to claim. [link] #FreeiPhone\", \"Label\": \"Spam\"},\n",
    "    {\"Text\": \"That game was way too close. Heart can’t take it. #AggieNation\", \"Label\": \"Football Related\"},\n",
    "    {\"Text\": \"Got some solid advice from a recruiter at today’s career fair. Feeling hopeful. #CareerFair\", \"Label\": \"Career Fair Related\"},\n",
    "    {\"Text\": \"The research lab just published findings on renewable energy. Game changer. #Sustainability\", \"Label\": \"Research Related\"},\n",
    "    {\"Text\": \"Preseason looks good for the basketball team. Let’s get it this year. #AggieBasketball\", \"Label\": \"Basketball Related\"},\n",
    "    {\"Text\": \"Crazy deal: Make $500/day from home. Check it out. [link] #SideHustle\", \"Label\": \"Spam\"},\n",
    "    {\"Text\": \"Aggie tailgates are the best part of game day. Good food, good people. #TailgateLife\", \"Label\": \"Football Related\"},\n",
    "    {\"Text\": \"Finally got to talk to a recruiter from Microsoft at the career fair. Fingers crossed. #TechDreams\", \"Label\": \"Career Fair Related\"},\n",
    "    {\"Text\": \"TAMU researchers are really out here making quantum computing breakthroughs. Impressive stuff. #Science\", \"Label\": \"Research Related\"},\n",
    "    {\"Text\": \"Our basketball team just isn’t the same without our star player. Hope they recover soon. #GoAggies\", \"Label\": \"Basketball Related\"},\n",
    "    {\"Text\": \"Earn money fast with zero experience needed! [link] #EasyMoney\", \"Label\": \"Spam\"},\n",
    "    {\"Text\": \"Game day was electric, even in the rain. Nothing like it. #AggieSpirit\", \"Label\": \"Football Related\"},\n",
    "    {\"Text\": \"Career fair tip: Always have extra copies of your resume. Saved me today. #JobHunt\", \"Label\": \"Career Fair Related\"},\n",
    "    {\"Text\": \"Read about TAMU’s new tech for agriculture. Could change the game for farmers. #AgTech\", \"Label\": \"Research Related\"},\n",
    "    {\"Text\": \"Basketball practice looked intense today. Team’s putting in work. #AggiePride\", \"Label\": \"Basketball Related\"},\n",
    "    {\"Text\": \"Get rich quick! Limited spots available. [link] #Wealth\", \"Label\": \"Spam\"},\n",
    "    {\"Text\": \"Last-second field goal to win the game. What a moment! #AggieFootball\", \"Label\": \"Football Related\"},\n",
    "    {\"Text\": \"Lots of opportunities at today’s career fair. Hope it leads to something good. #CareerGoals\", \"Label\": \"Career Fair Related\"},\n",
    "    {\"Text\": \"TAMU’s research team is making headlines with a cancer breakthrough. Proud to be an Aggie. #HealthTech\", \"Label\": \"Research Related\"},\n",
    "    {\"Text\": \"Aggies taking home the basketball win tonight. Great game. #Victory\", \"Label\": \"Basketball Related\"},\n",
    "    {\"Text\": \"Click now for a free gift! Too good to be true? Maybe, but who cares. [link] #Giveaway\", \"Label\": \"Spam\"},\n",
    "    {\"Text\": \"Solid defense from our football team today. They really stepped up. #AggieDefense\", \"Label\": \"Football Related\"},\n",
    "    {\"Text\": \"Best part of the career fair: meeting fellow Aggies aiming high. #TAMUNetwork\", \"Label\": \"Career Fair Related\"},\n",
    "    {\"Text\": \"AI research at TAMU is taking off. Can't wait to see where it leads. #FutureTech\", \"Label\": \"Research Related\"},\n",
    "    {\"Text\": \"Basketball season is gonna be fire if the team keeps playing like this. #AggieHoops\", \"Label\": \"Basketball Related\"},\n",
    "    {\"Text\": \"Work from home and earn $$$. Sounds like a scam, but you never know. [link] #RemoteWork\", \"Label\": \"Spam\"},\n",
    "    {\"Text\": \"Can’t believe how hyped the crowd was at the game. Best atmosphere ever. #AggieFans\", \"Label\": \"Football Related\"},\n",
    "    {\"Text\": \"Survived the career fair! Got some leads I’m excited about. #CareerFairSurvival\", \"Label\": \"Career Fair Related\"},\n",
    "    {\"Text\": \"TAMU scientists are out here revolutionizing battery tech. Big respect. #TechTuesday\", \"Label\": \"Research Related\"},\n",
    "    {\"Text\": \"Just watched the basketball team practice. Looking sharp. #AggieBball\", \"Label\": \"Basketball Related\"},\n",
    "    {\"Text\": \"Quick and easy way to make money! Check this out: [link] #MoneyTips\", \"Label\": \"Spam\"},\n",
    "    {\"Text\": \"Aggies crush it in overtime! What a game! 🏈 #GigEm #12thMan\", \"Label\": \"Football Related\"},\n",
    "    {\"Text\": \"Career fair was wild today—so many people, so many recruiters. Hoping for good news soon! 🤞 #AggieCareerFair\", \"Label\": \"Career Fair Related\"},\n",
    "    {\"Text\": \"TAMU researchers just dropped a study on AI in healthcare. Super promising! #ResearchRocks #AggieScience\", \"Label\": \"Research Related\"},\n",
    "    {\"Text\": \"Close one for our basketball team tonight. Proud of the fight they put up. #AggieBasketball\", \"Label\": \"Basketball Related\"},\n",
    "    {\"Text\": \"🚨 Get rich with zero effort! Click here to find out how. [link] #EasyCash\", \"Label\": \"Spam\"},\n",
    "    {\"Text\": \"Crowd went absolutely nuts when the Aggies scored that last-minute touchdown! #GameDayVibes\", \"Label\": \"Football Related\"},\n",
    "    {\"Text\": \"Met a recruiter from Tesla at the career fair. Feeling inspired and hopeful! 🚀 #DreamBig\", \"Label\": \"Career Fair Related\"},\n",
    "    {\"Text\": \"Just heard about a massive grant awarded to TAMU for renewable energy research. Let’s go, Aggies! 🌱 #GreenTech\", \"Label\": \"Research Related\"},\n",
    "    {\"Text\": \"Basketball practice is looking tight! Team’s putting in work for sure. 🏀🔥 #AggieHoops\", \"Label\": \"Basketball Related\"},\n",
    "    {\"Text\": \"Congrats, you’ve been selected to win a free vacation! Click to claim! [link] 🏖️ #GiveawayAlert\", \"Label\": \"Spam\"},\n",
    "    {\"Text\": \"Tailgating before the game was a blast! Nothing like Aggie spirit on game day. #GigEm\", \"Label\": \"Football Related\"},\n",
    "    {\"Text\": \"Career fair pro tip: Make sure you have your LinkedIn profile ready to go. Got some solid connections today! #Networking\", \"Label\": \"Career Fair Related\"},\n",
    "    {\"Text\": \"Quantum computing at TAMU is making waves. So proud of what our researchers are doing. #TechBreakthrough\", \"Label\": \"Research Related\"},\n",
    "    {\"Text\": \"Aggies take a huge W on the basketball court tonight! Love seeing the team work together. #AggieWin\", \"Label\": \"Basketball Related\"},\n",
    "    {\"Text\": \"Make thousands from home in your spare time! Find out more: [link] 💰 #SideHustleLife\", \"Label\": \"Spam\"},\n",
    "    {\"Text\": \"Aggie defense was on fire today! The whole stadium felt it. 🔥 #AggieFootball\", \"Label\": \"Football Related\"},\n",
    "    {\"Text\": \"Career fair was overwhelming, but I got some interviews lined up. Fingers crossed! #CareerGoals\", \"Label\": \"Career Fair Related\"},\n",
    "    {\"Text\": \"Cutting-edge cancer research coming out of TAMU. Changing the game. #AggieScience\", \"Label\": \"Research Related\"},\n",
    "    {\"Text\": \"Basketball season is gonna be one to watch if tonight was any indication. #HoopsHype\", \"Label\": \"Basketball Related\"},\n",
    "    {\"Text\": \"Limited-time offer: Work from home and start earning big! [link] #NoExperienceNeeded\", \"Label\": \"Spam\"},\n",
    "    {\"Text\": \"Huge turnout at Kyle Field today! Aggies brought the energy. #HomeGame\", \"Label\": \"Football Related\"},\n",
    "    {\"Text\": \"Met some amazing people at the career fair, and I’m feeling more motivated than ever. 💼 #AggieNetwork\", \"Label\": \"Career Fair Related\"},\n",
    "    {\"Text\": \"Did you see TAMU's latest research on sustainable agriculture? Couldn’t be prouder. #FutureFarming\", \"Label\": \"Research Related\"},\n",
    "    {\"Text\": \"Aggies down by two with a minute left... and they turn it around! Unreal finish! #BasketballMagic\", \"Label\": \"Basketball Related\"},\n",
    "    {\"Text\": \"🚨 Exclusive deal: Click here to start earning money from your phone! [link] #WorkFromHome\", \"Label\": \"Spam\"},\n",
    "    {\"Text\": \"Nothing beats the thrill of a last-second field goal. Still buzzing from the game! #12thMan\", \"Label\": \"Football Related\"},\n",
    "    {\"Text\": \"Spent all day at the career fair. Legs tired, but worth it. Made some good connections! #JobSearch\", \"Label\": \"Career Fair Related\"},\n",
    "    {\"Text\": \"AI research at TAMU is shaping the future. Excited to see these projects come to life. 🤖 #TAMUInnovation\", \"Label\": \"Research Related\"},\n",
    "    {\"Text\": \"Team chemistry on the basketball court tonight was off the charts! Can’t wait for the next game. #AggieBball\", \"Label\": \"Basketball Related\"},\n",
    "    {\"Text\": \"Win a free smartwatch today! Click the link to find out how. [link] ⏰ #LimitedOffer\", \"Label\": \"Spam\"},\n",
    "    {\"Text\": \"Aggies pull off another nail-biter. My heart can’t take it! #GameDayFeels\", \"Label\": \"Football Related\"},\n",
    "    {\"Text\": \"Career fair success: Got a lead on an internship in NYC. Let’s hope it works out! #InternshipHunt\", \"Label\": \"Career Fair Related\"},\n",
    "    {\"Text\": \"New discovery in TAMU’s physics lab could change how we look at the universe. No big deal. 🌌 #ScienceWin\", \"Label\": \"Research Related\"},\n",
    "    {\"Text\": \"Basketball team grinding hard in preseason. Ready for an exciting year! #AggieNation\", \"Label\": \"Basketball Related\"},\n",
    "    {\"Text\": \"Quick way to make money online! Check it out: [link] #MoneyHack\", \"Label\": \"Spam\"}\n",
    "]\n",
    "\n",
    "\n",
    "# Create DataFrame\n",
    "df = pd.DataFrame(data)\n",
    "\n",
    "# Save to CSV\n",
    "df.to_csv(\"labeled_dummy_dataset.csv\", index=False)\n",
    "print(\"CSV file created successfully!\")\n"
   ]
  }
 ],
 "metadata": {
  "kernelspec": {
   "display_name": "Python 3",
   "language": "python",
   "name": "python3"
  },
  "language_info": {
   "codemirror_mode": {
    "name": "ipython",
    "version": 3
   },
   "file_extension": ".py",
   "mimetype": "text/x-python",
   "name": "python",
   "nbconvert_exporter": "python",
   "pygments_lexer": "ipython3",
   "version": "3.12.1"
  }
 },
 "nbformat": 4,
 "nbformat_minor": 2
}
