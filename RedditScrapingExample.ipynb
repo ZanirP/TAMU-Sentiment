{
  "nbformat": 4,
  "nbformat_minor": 0,
  "metadata": {
    "colab": {
      "provenance": []
    },
    "kernelspec": {
      "name": "python3",
      "display_name": "Python 3"
    },
    "language_info": {
      "name": "python"
    }
  },
  "cells": [
    {
      "cell_type": "code",
      "execution_count": null,
      "metadata": {
        "colab": {
          "base_uri": "https://localhost:8080/"
        },
        "collapsed": true,
        "id": "TeSYk9AUU-Iu",
        "outputId": "b51eb5e5-6712-4839-a7db-d597a02b8d74"
      },
      "outputs": [
        {
          "output_type": "stream",
          "name": "stdout",
          "text": [
            "Requirement already satisfied: praw in /usr/local/lib/python3.10/dist-packages (7.7.1)\n",
            "Requirement already satisfied: prawcore<3,>=2.1 in /usr/local/lib/python3.10/dist-packages (from praw) (2.4.0)\n",
            "Requirement already satisfied: update-checker>=0.18 in /usr/local/lib/python3.10/dist-packages (from praw) (0.18.0)\n",
            "Requirement already satisfied: websocket-client>=0.54.0 in /usr/local/lib/python3.10/dist-packages (from praw) (1.8.0)\n",
            "Requirement already satisfied: requests<3.0,>=2.6.0 in /usr/local/lib/python3.10/dist-packages (from prawcore<3,>=2.1->praw) (2.32.3)\n",
            "Requirement already satisfied: charset-normalizer<4,>=2 in /usr/local/lib/python3.10/dist-packages (from requests<3.0,>=2.6.0->prawcore<3,>=2.1->praw) (3.3.2)\n",
            "Requirement already satisfied: idna<4,>=2.5 in /usr/local/lib/python3.10/dist-packages (from requests<3.0,>=2.6.0->prawcore<3,>=2.1->praw) (3.8)\n",
            "Requirement already satisfied: urllib3<3,>=1.21.1 in /usr/local/lib/python3.10/dist-packages (from requests<3.0,>=2.6.0->prawcore<3,>=2.1->praw) (2.0.7)\n",
            "Requirement already satisfied: certifi>=2017.4.17 in /usr/local/lib/python3.10/dist-packages (from requests<3.0,>=2.6.0->prawcore<3,>=2.1->praw) (2024.8.30)\n",
            "Requirement already satisfied: nltk in /usr/local/lib/python3.10/dist-packages (3.8.1)\n",
            "Requirement already satisfied: click in /usr/local/lib/python3.10/dist-packages (from nltk) (8.1.7)\n",
            "Requirement already satisfied: joblib in /usr/local/lib/python3.10/dist-packages (from nltk) (1.4.2)\n",
            "Requirement already satisfied: regex>=2021.8.3 in /usr/local/lib/python3.10/dist-packages (from nltk) (2024.5.15)\n",
            "Requirement already satisfied: tqdm in /usr/local/lib/python3.10/dist-packages (from nltk) (4.66.5)\n"
          ]
        }
      ],
      "source": [
        "!pip install praw\n",
        "!pip install nltk"
      ]
    },
    {
      "cell_type": "code",
      "source": [
        "import praw\n",
        "import pandas as pd\n",
        "import nltk\n",
        "import re\n",
        "import string\n",
        "from nltk.corpus import stopwords\n",
        "from nltk.tokenize import word_tokenize\n",
        "from nltk.stem import WordNetLemmatizer\n",
        "nltk.download('punkt')\n",
        "nltk.download('stopwords')\n",
        "nltk.download('wordnet')\n",
        "\n",
        "# Set up PRAW instance with Reddit credentials\n",
        "reddit = praw.Reddit(\n",
        "    client_id='-klUiEtxErBWwt8lSPJrnw',\n",
        "    client_secret='5C-RoMucTX21WRofk4z9X2xpACMJHA',\n",
        "    user_agent='TAMUSentiment by Smoothiekanoble'\n",
        ")\n",
        "\n",
        "# Set up lemmatization function\n",
        "lemmatizer = WordNetLemmatizer()"
      ],
      "metadata": {
        "colab": {
          "base_uri": "https://localhost:8080/"
        },
        "collapsed": true,
        "id": "-apolDehV4ys",
        "outputId": "03136ac5-4561-4ae0-87eb-079f37987104"
      },
      "execution_count": null,
      "outputs": [
        {
          "output_type": "stream",
          "name": "stderr",
          "text": [
            "[nltk_data] Downloading package punkt to /root/nltk_data...\n",
            "[nltk_data]   Package punkt is already up-to-date!\n",
            "[nltk_data] Downloading package stopwords to /root/nltk_data...\n",
            "[nltk_data]   Package stopwords is already up-to-date!\n",
            "[nltk_data] Downloading package wordnet to /root/nltk_data...\n",
            "[nltk_data]   Package wordnet is already up-to-date!\n"
          ]
        }
      ]
    },
    {
      "cell_type": "code",
      "source": [
        "# Access the r/aggies subreddit\n",
        "subreddit = reddit.subreddit('aggies')\n",
        "\n",
        "# List to store data\n",
        "data = []\n",
        "\n",
        "# Fetch hot posts from subreddit\n",
        "for submission in subreddit.hot(limit=10):  # temporarily low limit\n",
        "    post_data = {\n",
        "        'title': submission.title,\n",
        "        'upvotes': submission.score,\n",
        "        'upvote_ratio': submission.upvote_ratio,\n",
        "        #'post_url': submission.url,\n",
        "        'top_comments': []  # store top comments in list\n",
        "    }\n",
        "\n",
        "    # Fetch top comments\n",
        "    submission.comments.replace_more(limit=0)  # Flatten comment tree\n",
        "    top_comments = submission.comments[:3]  # temporary comment limit\n",
        "    print(\"Top Comments:\")\n",
        "    for comment in top_comments:\n",
        "        post_data['top_comments'].append({\n",
        "            'comment_text': comment.body,\n",
        "            'comment_upvotes': comment.score\n",
        "        })\n",
        "        data.append(post_data)\n",
        "\n",
        "df = pd.DataFrame(data)\n",
        "print(df)\n"
      ],
      "metadata": {
        "colab": {
          "base_uri": "https://localhost:8080/"
        },
        "collapsed": true,
        "id": "oA98F4V8cJl7",
        "outputId": "630ad981-0367-4ad5-bce2-5493256ab1f9"
      },
      "execution_count": null,
      "outputs": [
        {
          "output_type": "stream",
          "name": "stderr",
          "text": [
            "WARNING:praw:It appears that you are using PRAW in an asynchronous environment.\n",
            "It is strongly recommended to use Async PRAW: https://asyncpraw.readthedocs.io.\n",
            "See https://praw.readthedocs.io/en/latest/getting_started/multiple_instances.html#discord-bots-and-asynchronous-environments for more info.\n",
            "\n",
            "WARNING:praw:It appears that you are using PRAW in an asynchronous environment.\n",
            "It is strongly recommended to use Async PRAW: https://asyncpraw.readthedocs.io.\n",
            "See https://praw.readthedocs.io/en/latest/getting_started/multiple_instances.html#discord-bots-and-asynchronous-environments for more info.\n",
            "\n",
            "WARNING:praw:It appears that you are using PRAW in an asynchronous environment.\n",
            "It is strongly recommended to use Async PRAW: https://asyncpraw.readthedocs.io.\n",
            "See https://praw.readthedocs.io/en/latest/getting_started/multiple_instances.html#discord-bots-and-asynchronous-environments for more info.\n",
            "\n"
          ]
        },
        {
          "output_type": "stream",
          "name": "stdout",
          "text": [
            "Top Comments:\n"
          ]
        },
        {
          "output_type": "stream",
          "name": "stderr",
          "text": [
            "WARNING:praw:It appears that you are using PRAW in an asynchronous environment.\n",
            "It is strongly recommended to use Async PRAW: https://asyncpraw.readthedocs.io.\n",
            "See https://praw.readthedocs.io/en/latest/getting_started/multiple_instances.html#discord-bots-and-asynchronous-environments for more info.\n",
            "\n",
            "WARNING:praw:It appears that you are using PRAW in an asynchronous environment.\n",
            "It is strongly recommended to use Async PRAW: https://asyncpraw.readthedocs.io.\n",
            "See https://praw.readthedocs.io/en/latest/getting_started/multiple_instances.html#discord-bots-and-asynchronous-environments for more info.\n",
            "\n"
          ]
        },
        {
          "output_type": "stream",
          "name": "stdout",
          "text": [
            "Top Comments:\n",
            "Top Comments:\n"
          ]
        },
        {
          "output_type": "stream",
          "name": "stderr",
          "text": [
            "WARNING:praw:It appears that you are using PRAW in an asynchronous environment.\n",
            "It is strongly recommended to use Async PRAW: https://asyncpraw.readthedocs.io.\n",
            "See https://praw.readthedocs.io/en/latest/getting_started/multiple_instances.html#discord-bots-and-asynchronous-environments for more info.\n",
            "\n"
          ]
        },
        {
          "output_type": "stream",
          "name": "stdout",
          "text": [
            "Top Comments:\n"
          ]
        },
        {
          "output_type": "stream",
          "name": "stderr",
          "text": [
            "WARNING:praw:It appears that you are using PRAW in an asynchronous environment.\n",
            "It is strongly recommended to use Async PRAW: https://asyncpraw.readthedocs.io.\n",
            "See https://praw.readthedocs.io/en/latest/getting_started/multiple_instances.html#discord-bots-and-asynchronous-environments for more info.\n",
            "\n"
          ]
        },
        {
          "output_type": "stream",
          "name": "stdout",
          "text": [
            "Top Comments:\n"
          ]
        },
        {
          "output_type": "stream",
          "name": "stderr",
          "text": [
            "WARNING:praw:It appears that you are using PRAW in an asynchronous environment.\n",
            "It is strongly recommended to use Async PRAW: https://asyncpraw.readthedocs.io.\n",
            "See https://praw.readthedocs.io/en/latest/getting_started/multiple_instances.html#discord-bots-and-asynchronous-environments for more info.\n",
            "\n"
          ]
        },
        {
          "output_type": "stream",
          "name": "stdout",
          "text": [
            "Top Comments:\n"
          ]
        },
        {
          "output_type": "stream",
          "name": "stderr",
          "text": [
            "WARNING:praw:It appears that you are using PRAW in an asynchronous environment.\n",
            "It is strongly recommended to use Async PRAW: https://asyncpraw.readthedocs.io.\n",
            "See https://praw.readthedocs.io/en/latest/getting_started/multiple_instances.html#discord-bots-and-asynchronous-environments for more info.\n",
            "\n",
            "WARNING:praw:It appears that you are using PRAW in an asynchronous environment.\n",
            "It is strongly recommended to use Async PRAW: https://asyncpraw.readthedocs.io.\n",
            "See https://praw.readthedocs.io/en/latest/getting_started/multiple_instances.html#discord-bots-and-asynchronous-environments for more info.\n",
            "\n"
          ]
        },
        {
          "output_type": "stream",
          "name": "stdout",
          "text": [
            "Top Comments:\n",
            "Top Comments:\n"
          ]
        },
        {
          "output_type": "stream",
          "name": "stderr",
          "text": [
            "WARNING:praw:It appears that you are using PRAW in an asynchronous environment.\n",
            "It is strongly recommended to use Async PRAW: https://asyncpraw.readthedocs.io.\n",
            "See https://praw.readthedocs.io/en/latest/getting_started/multiple_instances.html#discord-bots-and-asynchronous-environments for more info.\n",
            "\n"
          ]
        },
        {
          "output_type": "stream",
          "name": "stdout",
          "text": [
            "Top Comments:\n",
            "Top Comments:\n",
            "                                                title  upvotes  upvote_ratio  \\\n",
            "0                     SUMMER/FALL 2024 HOUSING THREAD       28          1.00   \n",
            "1                     SUMMER/FALL 2024 HOUSING THREAD       28          1.00   \n",
            "2                     SUMMER/FALL 2024 HOUSING THREAD       28          1.00   \n",
            "3                                     SCHEDULE THREAD       26          0.97   \n",
            "4                                     SCHEDULE THREAD       26          0.97   \n",
            "5                                     SCHEDULE THREAD       26          0.97   \n",
            "6   Reveille IX is now almost completely white and...      241          0.99   \n",
            "7   Reveille IX is now almost completely white and...      241          0.99   \n",
            "8   Reveille IX is now almost completely white and...      241          0.99   \n",
            "9   I haven’t even had coffee yet and there’s a da...       54          0.98   \n",
            "10  I haven’t even had coffee yet and there’s a da...       54          0.98   \n",
            "11  I haven’t even had coffee yet and there’s a da...       54          0.98   \n",
            "12  Anyone else thinking Hope is messing with us a...       78          0.93   \n",
            "13  Anyone else thinking Hope is messing with us a...       78          0.93   \n",
            "14  Anyone else thinking Hope is messing with us a...       78          0.93   \n",
            "15                         Stop anti veo hate crimes        95          0.83   \n",
            "16                         Stop anti veo hate crimes        95          0.83   \n",
            "17                         Stop anti veo hate crimes        95          0.83   \n",
            "18                                           Creepers      126          0.90   \n",
            "19                                           Creepers      126          0.90   \n",
            "20                                           Creepers      126          0.90   \n",
            "21  Heard TAMU is no longer doing PSA and Gateway ...       14          0.72   \n",
            "22  Heard TAMU is no longer doing PSA and Gateway ...       14          0.72   \n",
            "23  Heard TAMU is no longer doing PSA and Gateway ...       14          0.72   \n",
            "24              BDS Towing - Wrongful Towing Recourse      158          0.98   \n",
            "25              BDS Towing - Wrongful Towing Recourse      158          0.98   \n",
            "26              BDS Towing - Wrongful Towing Recourse      158          0.98   \n",
            "\n",
            "                                         top_comments  \n",
            "0   [{'comment_text': 'Howdy! Private room for ren...  \n",
            "1   [{'comment_text': 'Howdy! Private room for ren...  \n",
            "2   [{'comment_text': 'Howdy! Private room for ren...  \n",
            "3   [{'comment_text': 'What's the most cost effect...  \n",
            "4   [{'comment_text': 'What's the most cost effect...  \n",
            "5   [{'comment_text': 'What's the most cost effect...  \n",
            "6   [{'comment_text': 'It happens to the best of u...  \n",
            "7   [{'comment_text': 'It happens to the best of u...  \n",
            "8   [{'comment_text': 'It happens to the best of u...  \n",
            "9   [{'comment_text': 'Veo lives matter lol', 'com...  \n",
            "10  [{'comment_text': 'Veo lives matter lol', 'com...  \n",
            "11  [{'comment_text': 'Veo lives matter lol', 'com...  \n",
            "12  [{'comment_text': 'Hope isnt real. Shut that s...  \n",
            "13  [{'comment_text': 'Hope isnt real. Shut that s...  \n",
            "14  [{'comment_text': 'Hope isnt real. Shut that s...  \n",
            "15  [{'comment_text': 'The only crime here is the ...  \n",
            "16  [{'comment_text': 'The only crime here is the ...  \n",
            "17  [{'comment_text': 'The only crime here is the ...  \n",
            "18  [{'comment_text': 'Put in a police report or s...  \n",
            "19  [{'comment_text': 'Put in a police report or s...  \n",
            "20  [{'comment_text': 'Put in a police report or s...  \n",
            "21  [{'comment_text': 'These programs set kids up ...  \n",
            "22  [{'comment_text': 'These programs set kids up ...  \n",
            "23  [{'comment_text': 'These programs set kids up ...  \n",
            "24  [{'comment_text': 'Thank you for doing the lor...  \n",
            "25  [{'comment_text': 'Thank you for doing the lor...  \n",
            "26  [{'comment_text': 'Thank you for doing the lor...  \n"
          ]
        }
      ]
    },
    {
      "cell_type": "markdown",
      "source": [
        "clean_text preprocesses the text so that it can be ran through sentiment analysis more effectively"
      ],
      "metadata": {
        "id": "Eh0jPVx4gmVm"
      }
    },
    {
      "cell_type": "code",
      "source": [
        "def clean_text(text):\n",
        "    # Remove URLs\n",
        "    text = re.sub(r'http\\S+', '', text)\n",
        "    # Remove punctuation\n",
        "    text = text.translate(str.maketrans('', '', string.punctuation))\n",
        "    # Lowercase the text\n",
        "    text = text.lower()\n",
        "    # Tokenize text\n",
        "    words = word_tokenize(text)\n",
        "    # Remove stopwords\n",
        "    words = [word for word in words if word not in stopwords.words('english')]\n",
        "    # Lemmatize words\n",
        "    words = [lemmatizer.lemmatize(word) for word in words]\n",
        "    # Join words back into a single string\n",
        "    return ' '.join(words)"
      ],
      "metadata": {
        "id": "MLRsJGNXfDPH"
      },
      "execution_count": null,
      "outputs": []
    },
    {
      "cell_type": "markdown",
      "source": [
        "If top comments are stored as nested dictionaries or lists in a DataFrame column, preprocess them similarly;\n",
        "Flatten nested top comments DataFrame if not already expanded\n",
        "\n"
      ],
      "metadata": {
        "id": "VhAg-HeSgGkq"
      }
    },
    {
      "cell_type": "code",
      "source": [
        "# Apply the cleaning function to the 'title' and 'top_comments' fields\n",
        "df['cleaned_title'] = df['title'].apply(clean_text)\n",
        "df_exploded = df.explode('top_comments')\n",
        "df_exploded['cleaned_comment'] = df_exploded['top_comments'].apply(\n",
        "    lambda x: clean_text(x['comment_text']) if isinstance(x, dict) else '')\n",
        "print(df)"
      ],
      "metadata": {
        "colab": {
          "base_uri": "https://localhost:8080/"
        },
        "collapsed": true,
        "id": "pAyyPBE5fSih",
        "outputId": "efd8f11e-d649-4964-c983-b0cf5db82e81"
      },
      "execution_count": null,
      "outputs": [
        {
          "output_type": "stream",
          "name": "stdout",
          "text": [
            "                                                title  upvotes  upvote_ratio  \\\n",
            "0                     SUMMER/FALL 2024 HOUSING THREAD       28          1.00   \n",
            "1                     SUMMER/FALL 2024 HOUSING THREAD       28          1.00   \n",
            "2                     SUMMER/FALL 2024 HOUSING THREAD       28          1.00   \n",
            "3                                     SCHEDULE THREAD       26          0.97   \n",
            "4                                     SCHEDULE THREAD       26          0.97   \n",
            "5                                     SCHEDULE THREAD       26          0.97   \n",
            "6   Reveille IX is now almost completely white and...      241          0.99   \n",
            "7   Reveille IX is now almost completely white and...      241          0.99   \n",
            "8   Reveille IX is now almost completely white and...      241          0.99   \n",
            "9   I haven’t even had coffee yet and there’s a da...       54          0.98   \n",
            "10  I haven’t even had coffee yet and there’s a da...       54          0.98   \n",
            "11  I haven’t even had coffee yet and there’s a da...       54          0.98   \n",
            "12  Anyone else thinking Hope is messing with us a...       78          0.93   \n",
            "13  Anyone else thinking Hope is messing with us a...       78          0.93   \n",
            "14  Anyone else thinking Hope is messing with us a...       78          0.93   \n",
            "15                         Stop anti veo hate crimes        95          0.83   \n",
            "16                         Stop anti veo hate crimes        95          0.83   \n",
            "17                         Stop anti veo hate crimes        95          0.83   \n",
            "18                                           Creepers      126          0.90   \n",
            "19                                           Creepers      126          0.90   \n",
            "20                                           Creepers      126          0.90   \n",
            "21  Heard TAMU is no longer doing PSA and Gateway ...       14          0.72   \n",
            "22  Heard TAMU is no longer doing PSA and Gateway ...       14          0.72   \n",
            "23  Heard TAMU is no longer doing PSA and Gateway ...       14          0.72   \n",
            "24              BDS Towing - Wrongful Towing Recourse      158          0.98   \n",
            "25              BDS Towing - Wrongful Towing Recourse      158          0.98   \n",
            "26              BDS Towing - Wrongful Towing Recourse      158          0.98   \n",
            "\n",
            "                                         top_comments  \\\n",
            "0   [{'comment_text': 'Howdy! Private room for ren...   \n",
            "1   [{'comment_text': 'Howdy! Private room for ren...   \n",
            "2   [{'comment_text': 'Howdy! Private room for ren...   \n",
            "3   [{'comment_text': 'What's the most cost effect...   \n",
            "4   [{'comment_text': 'What's the most cost effect...   \n",
            "5   [{'comment_text': 'What's the most cost effect...   \n",
            "6   [{'comment_text': 'It happens to the best of u...   \n",
            "7   [{'comment_text': 'It happens to the best of u...   \n",
            "8   [{'comment_text': 'It happens to the best of u...   \n",
            "9   [{'comment_text': 'Veo lives matter lol', 'com...   \n",
            "10  [{'comment_text': 'Veo lives matter lol', 'com...   \n",
            "11  [{'comment_text': 'Veo lives matter lol', 'com...   \n",
            "12  [{'comment_text': 'Hope isnt real. Shut that s...   \n",
            "13  [{'comment_text': 'Hope isnt real. Shut that s...   \n",
            "14  [{'comment_text': 'Hope isnt real. Shut that s...   \n",
            "15  [{'comment_text': 'The only crime here is the ...   \n",
            "16  [{'comment_text': 'The only crime here is the ...   \n",
            "17  [{'comment_text': 'The only crime here is the ...   \n",
            "18  [{'comment_text': 'Put in a police report or s...   \n",
            "19  [{'comment_text': 'Put in a police report or s...   \n",
            "20  [{'comment_text': 'Put in a police report or s...   \n",
            "21  [{'comment_text': 'These programs set kids up ...   \n",
            "22  [{'comment_text': 'These programs set kids up ...   \n",
            "23  [{'comment_text': 'These programs set kids up ...   \n",
            "24  [{'comment_text': 'Thank you for doing the lor...   \n",
            "25  [{'comment_text': 'Thank you for doing the lor...   \n",
            "26  [{'comment_text': 'Thank you for doing the lor...   \n",
            "\n",
            "                                      cleaned_title  \n",
            "0                    summerfall 2024 housing thread  \n",
            "1                    summerfall 2024 housing thread  \n",
            "2                    summerfall 2024 housing thread  \n",
            "3                                   schedule thread  \n",
            "4                                   schedule thread  \n",
            "5                                   schedule thread  \n",
            "6         reveille ix almost completely white gray😢  \n",
            "7         reveille ix almost completely white gray😢  \n",
            "8         reveille ix almost completely white gray😢  \n",
            "9               ’ even coffee yet ’ damn veo tree 😂  \n",
            "10              ’ even coffee yet ’ damn veo tree 😂  \n",
            "11              ’ even coffee yet ’ damn veo tree 😂  \n",
            "12  anyone else thinking hope messing u nd loss niu  \n",
            "13  anyone else thinking hope messing u nd loss niu  \n",
            "14  anyone else thinking hope messing u nd loss niu  \n",
            "15                         stop anti veo hate crime  \n",
            "16                         stop anti veo hate crime  \n",
            "17                         stop anti veo hate crime  \n",
            "18                                          creeper  \n",
            "19                                          creeper  \n",
            "20                                          creeper  \n",
            "21          heard tamu longer psa gateway admission  \n",
            "22          heard tamu longer psa gateway admission  \n",
            "23          heard tamu longer psa gateway admission  \n",
            "24               bd towing wrongful towing recourse  \n",
            "25               bd towing wrongful towing recourse  \n",
            "26               bd towing wrongful towing recourse  \n"
          ]
        }
      ]
    },
    {
      "cell_type": "code",
      "source": [],
      "metadata": {
        "id": "Ueb4dUu5gDRP"
      },
      "execution_count": null,
      "outputs": []
    }
  ]
}