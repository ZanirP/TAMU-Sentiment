{
 "cells": [
  {
   "cell_type": "code",
   "execution_count": 1,
   "metadata": {},
   "outputs": [],
   "source": [
    "import praw\n",
    "import os\n",
    "from dotenv import load_dotenv, dotenv_values"
   ]
  },
  {
   "cell_type": "code",
   "execution_count": 2,
   "metadata": {},
   "outputs": [],
   "source": [
    "load_dotenv()\n",
    "clientId = os.getenv('CLIENT_ID')\n",
    "secret = os.getenv('SECRET')\n",
    "agent = \"Scraper 1.0 by /u/Southern_Implant43\"\n",
    "\n",
    "reddit = praw.Reddit(\n",
    "\tclient_id=clientId,\n",
    "\tclient_secret=secret,\n",
    "\tuser_agent=agent\n",
    ")"
   ]
  },
  {
   "cell_type": "code",
   "execution_count": 3,
   "metadata": {},
   "outputs": [],
   "source": [
    "tamuKeywords = ['tamu', 'Texas A&M', 'aggies', \"Fightin' Texas Aggies\", 'aggie',  '12th man', 'atm']\n",
    "aggieKeywords = ['football', 'basketball', 'Arkansas', 'Notre Dame', 'LSU']\n",
    "posts = []\n",
    "agPosts = []\n"
   ]
  },
  {
   "cell_type": "code",
   "execution_count": 4,
   "metadata": {},
   "outputs": [],
   "source": [
    "for submission in reddit.subreddit('cfb+college').hot(limit=None):\n",
    "\tif any(keyword.lower() in submission.title.lower() for keyword in tamuKeywords):\n",
    "\t\tposts.append(submission)"
   ]
  },
  {
   "cell_type": "code",
   "execution_count": 5,
   "metadata": {},
   "outputs": [],
   "source": [
    "for post in reddit.subreddit('aggies').hot(limit=None):\n",
    "\tif any(keyword.lower() in post.title.lower() for keyword in aggieKeywords):\n",
    "\t\tagPosts.append(post)"
   ]
  },
  {
   "cell_type": "code",
   "execution_count": 6,
   "metadata": {},
   "outputs": [
    {
     "name": "stdout",
     "output_type": "stream",
     "text": [
      "1\n"
     ]
    }
   ],
   "source": [
    "print(len(posts))"
   ]
  }
 ],
 "metadata": {
  "kernelspec": {
   "display_name": ".venv",
   "language": "python",
   "name": "python3"
  },
  "language_info": {
   "codemirror_mode": {
    "name": "ipython",
    "version": 3
   },
   "file_extension": ".py",
   "mimetype": "text/x-python",
   "name": "python",
   "nbconvert_exporter": "python",
   "pygments_lexer": "ipython3",
   "version": "3.12.7"
  },
  "orig_nbformat": 4
 },
 "nbformat": 4,
 "nbformat_minor": 2
}
